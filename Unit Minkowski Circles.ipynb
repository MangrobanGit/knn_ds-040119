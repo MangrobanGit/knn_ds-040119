{
 "cells": [
  {
   "cell_type": "code",
   "execution_count": 2,
   "metadata": {},
   "outputs": [],
   "source": [
    "from matplotlib import pyplot as plt\n",
    "import numpy as np\n",
    "\n",
    "X = np.linspace(-1, 1, 200)\n",
    "y0 = 1 - np.abs(X)            # This is the 'taxicab' metric\n",
    "y1 = (1 - X ** 2) ** 0.5      # This is Euclidean\n",
    "y2 = (1 - X ** 4) ** 0.25\n",
    "y3 = (1 - X ** 10) ** 0.1\n",
    "y4 = (1 - X ** 1000) ** 0.001"
   ]
  },
  {
   "cell_type": "markdown",
   "metadata": {},
   "source": [
    "If we calculate distance with $\\lim_{n\\rightarrow\\infty}|y^n_i - x^n_i|^{\\frac{1}{n}}$, then we're using the **Chebyshev Distance**."
   ]
  },
  {
   "cell_type": "code",
   "execution_count": 18,
   "metadata": {},
   "outputs": [
    {
     "data": {
      "text/plain": [
       "<Figure size 576x576 with 0 Axes>"
      ]
     },
     "metadata": {},
     "output_type": "display_data"
    }
   ],
   "source": [
    "# Let's plot these Unit Circles!\n",
    "\n",
    "plt.figure(figsize = (8, 8));"
   ]
  },
  {
   "cell_type": "code",
   "execution_count": null,
   "metadata": {},
   "outputs": [],
   "source": []
  }
 ],
 "metadata": {
  "kernelspec": {
   "display_name": "Python 3",
   "language": "python",
   "name": "python3"
  },
  "language_info": {
   "codemirror_mode": {
    "name": "ipython",
    "version": 3
   },
   "file_extension": ".py",
   "mimetype": "text/x-python",
   "name": "python",
   "nbconvert_exporter": "python",
   "pygments_lexer": "ipython3",
   "version": "3.7.1"
  }
 },
 "nbformat": 4,
 "nbformat_minor": 2
}
